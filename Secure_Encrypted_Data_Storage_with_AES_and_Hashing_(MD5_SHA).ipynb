{
  "nbformat": 4,
  "nbformat_minor": 0,
  "metadata": {
    "colab": {
      "provenance": []
    },
    "kernelspec": {
      "name": "python3",
      "display_name": "Python 3"
    },
    "language_info": {
      "name": "python"
    }
  },
  "cells": [
    {
      "cell_type": "code",
      "execution_count": null,
      "metadata": {
        "colab": {
          "base_uri": "https://localhost:8080/"
        },
        "id": "Uk0iJuOcTHKC",
        "outputId": "5a3834f2-b375-4953-ea31-353f0646db8b"
      },
      "outputs": [
        {
          "output_type": "stream",
          "name": "stdout",
          "text": [
            "Mounted at /content/drive\n"
          ]
        }
      ],
      "source": [
        "from google.colab import drive\n",
        "drive.mount('/content/drive')"
      ]
    },
    {
      "cell_type": "code",
      "source": [
        "!pip install pycryptodome"
      ],
      "metadata": {
        "colab": {
          "base_uri": "https://localhost:8080/"
        },
        "id": "5apndzTETUlc",
        "outputId": "12755e49-0313-4d27-89ee-b1a7b693bf39"
      },
      "execution_count": null,
      "outputs": [
        {
          "output_type": "stream",
          "name": "stdout",
          "text": [
            "Collecting pycryptodome\n",
            "  Downloading pycryptodome-3.21.0-cp36-abi3-manylinux_2_17_x86_64.manylinux2014_x86_64.whl.metadata (3.4 kB)\n",
            "Downloading pycryptodome-3.21.0-cp36-abi3-manylinux_2_17_x86_64.manylinux2014_x86_64.whl (2.3 MB)\n",
            "\u001b[2K   \u001b[90m━━━━━━━━━━━━━━━━━━━━━━━━━━━━━━━━━━━━━━━━\u001b[0m \u001b[32m2.3/2.3 MB\u001b[0m \u001b[31m23.7 MB/s\u001b[0m eta \u001b[36m0:00:00\u001b[0m\n",
            "\u001b[?25hInstalling collected packages: pycryptodome\n",
            "Successfully installed pycryptodome-3.21.0\n"
          ]
        }
      ]
    },
    {
      "cell_type": "code",
      "source": [
        "import hashlib\n",
        "import json\n",
        "import os\n",
        "from Crypto.Cipher import AES\n",
        "from Crypto.Util.Padding import pad, unpad\n",
        "from base64 import b64encode, b64decode\n",
        "\n",
        "# Function to derive AES key from password\n",
        "def derive_key(password, use_sha256=True):\n",
        "    if use_sha256:\n",
        "        return hashlib.sha256(password.encode()).digest()\n",
        "    else:\n",
        "        return hashlib.md5(password.encode()).digest()\n",
        "\n",
        "# Function to encrypt message\n",
        "def encrypt_message(username, password, message, use_sha256=True):\n",
        "    key = derive_key(password, use_sha256)\n",
        "    iv = os.urandom(16)  # Random IV for CBC mode\n",
        "    cipher = AES.new(key, AES.MODE_CBC, iv)\n",
        "\n",
        "    encrypted_message = cipher.encrypt(pad(message.encode(), AES.block_size))\n",
        "    hash_value = hashlib.sha256(encrypted_message).hexdigest()\n",
        "\n",
        "    data = {\n",
        "        \"username\": username,\n",
        "        \"iv\": b64encode(iv).decode(),\n",
        "        \"encrypted_message\": b64encode(encrypted_message).decode(),\n",
        "        \"hash\": hash_value\n",
        "    }\n",
        "\n",
        "    # Store encrypted data in JSON file\n",
        "    with open(f\"/content/drive/My Drive/{username}_encrypted.json\", \"w\") as file:\n",
        "        json.dump(data, file)\n",
        "\n",
        "    print(\"[INFO] Encrypted message stored successfully.\")\n",
        "\n",
        "# Function to decrypt message\n",
        "def decrypt_message(username, password, use_sha256=True):\n",
        "    try:\n",
        "        # Load encrypted data\n",
        "        with open(f\"/content/drive/My Drive/{username}_encrypted.json\", \"r\") as file:\n",
        "            data = json.load(file)\n",
        "\n",
        "        key = derive_key(password, use_sha256)\n",
        "        iv = b64decode(data[\"iv\"])\n",
        "        encrypted_message = b64decode(data[\"encrypted_message\"])\n",
        "        stored_hash = data[\"hash\"]\n",
        "\n",
        "        # Verify integrity\n",
        "        if hashlib.sha256(encrypted_message).hexdigest() != stored_hash:\n",
        "            print(\"[ERROR] Integrity check failed! Possible tampering detected.\")\n",
        "            return\n",
        "\n",
        "        # Decrypt message\n",
        "        cipher = AES.new(key, AES.MODE_CBC, iv)\n",
        "        decrypted_message = unpad(cipher.decrypt(encrypted_message), AES.block_size).decode()\n",
        "\n",
        "        print(\"[INFO] Hash verified! Decrypting message...\")\n",
        "        print(\"Decrypted message:\", decrypted_message)\n",
        "\n",
        "    except FileNotFoundError:\n",
        "        print(\"[ERROR] No encrypted message found for user.\")\n",
        "    except Exception as e:\n",
        "        print(\"[ERROR] An error occurred:\", e)\n",
        "\n",
        "# User interaction\n",
        "action = input(\"Do you want to (E)ncrypt or (D)ecrypt a message? \").strip().upper()\n",
        "username = input(\"Enter your username: \").strip()\n",
        "password = input(\"Enter your password: \").strip()\n",
        "use_sha256 = input(\"Use SHA-256 (Y) or MD5 (N)? \").strip().upper() == \"Y\"\n",
        "\n",
        "if action == \"E\":\n",
        "    message = input(\"Enter message to encrypt: \")\n",
        "    encrypt_message(username, password, message, use_sha256)\n",
        "elif action == \"D\":\n",
        "    decrypt_message(username, password, use_sha256)\n",
        "else:\n",
        "    print(\"[ERROR] Invalid choice.\")"
      ],
      "metadata": {
        "colab": {
          "base_uri": "https://localhost:8080/"
        },
        "id": "VisHLdblV3gk",
        "outputId": "9899300e-534c-4c4d-ab17-7aa9de66582a"
      },
      "execution_count": null,
      "outputs": [
        {
          "output_type": "stream",
          "name": "stdout",
          "text": [
            "Do you want to (E)ncrypt or (D)ecrypt a message? d\n",
            "Enter your username: galib\n",
            "Enter your password: password\n",
            "Use SHA-256 (Y) or MD5 (N)? n\n",
            "[INFO] Hash verified! Decrypting message...\n",
            "Decrypted message: new message\n"
          ]
        }
      ]
    },
    {
      "cell_type": "code",
      "source": [
        "import hashlib\n",
        "\n",
        "# Function to compute SHA-256 hash of a file\n",
        "def compute_sha256(file_path):\n",
        "    with open(file_path, 'rb') as f:\n",
        "        file_data = f.read()\n",
        "    return hashlib.sha256(file_data).hexdigest()\n",
        "\n",
        "# Load private key and compute hash\n",
        "private_key_path = \"/content/drive/My Drive/Privacy PA1/Keys-Cipher Text/private_key.pem\"\n",
        "computed_hash = compute_sha256(private_key_path)\n",
        "\n",
        "# Provided hash options (update these based on your assignment)\n",
        "provided_hashes = {\n",
        "    \"A\": \"1a4c8b9d847b3e2fa2d5f9d31c8e5f8b7c91a5d0f4e5b2f7d8c6e2a9b4d5e1c3\",\n",
        "    \"B\": \"9e427f6bea8af1fc9d2d332312338cf538759ebe5f71843af205c18d726623f9\",\n",
        "    \"C\": \"3f4b5c2d9a8e7f1c5d3b2a9c6e1d4f7b8a2c5e9f1d0b3a7c8e6d2f5b9a4c3e1d\",\n",
        "    \"D\": \"0d09a513353e632b068a1a49e6ecc0b2c753ccc1c95cb1751745ba576d1396c8\"\n",
        "}\n",
        "\n",
        "# Check match\n",
        "for key, hash_value in provided_hashes.items():\n",
        "    if computed_hash == hash_value:\n",
        "        print(f\"[INFO] Hash matches option {key}!\")\n",
        "        break\n",
        "else:\n",
        "    print(\"[ERROR] No matching hash found.\")\n"
      ],
      "metadata": {
        "id": "ORvBq3GkdIwh",
        "colab": {
          "base_uri": "https://localhost:8080/"
        },
        "outputId": "2f73c718-8c80-4141-d68b-d6c9428afc69"
      },
      "execution_count": null,
      "outputs": [
        {
          "output_type": "stream",
          "name": "stdout",
          "text": [
            "[INFO] Hash matches option D!\n"
          ]
        }
      ]
    },
    {
      "cell_type": "code",
      "source": [
        "from Crypto.PublicKey import RSA\n",
        "from Crypto.Cipher import PKCS1_OAEP\n",
        "import base64\n",
        "\n",
        "# Load Alice's private key\n",
        "private_key_path = \"/content/drive/My Drive/Privacy PA1/Keys-Cipher Text/private_key.pem\"\n",
        "with open(private_key_path, \"rb\") as f:\n",
        "    private_key = RSA.import_key(f.read())\n",
        "\n",
        "# Initialize RSA decryption using PKCS1_OAEP\n",
        "cipher_rsa = PKCS1_OAEP.new(private_key)\n",
        "\n",
        "# Load and decode the encrypted message\n",
        "encrypted_message_path = \"/content/drive/My Drive/Privacy PA1/Keys-Cipher Text/encrypted_message.txt\"\n",
        "with open(encrypted_message_path, \"r\") as f:\n",
        "    encrypted_message_base64 = f.read().strip()\n",
        "\n",
        "# Decode from Base64\n",
        "encrypted_message_bytes = base64.b64decode(encrypted_message_base64)\n",
        "\n",
        "# Decrypt the message\n",
        "try:\n",
        "    decrypted_message = cipher_rsa.decrypt(encrypted_message_bytes).decode()\n",
        "    print(\"[INFO] Decrypted message:\", decrypted_message)\n",
        "except Exception as e:\n",
        "    print(\"[ERROR] Decryption failed:\", str(e))\n"
      ],
      "metadata": {
        "colab": {
          "base_uri": "https://localhost:8080/"
        },
        "id": "CIWZP_2sfi9R",
        "outputId": "ff0bf126-2bfc-45e6-898f-c4cd3844c61f"
      },
      "execution_count": null,
      "outputs": [
        {
          "output_type": "stream",
          "name": "stdout",
          "text": [
            "[INFO] Decrypted message: You can do anything, no one can judge you, hard work and discipline is all you need\n"
          ]
        }
      ]
    }
  ]
}